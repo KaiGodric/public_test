{
 "cells": [
  {
   "cell_type": "code",
   "execution_count": 1,
   "metadata": {},
   "outputs": [],
   "source": [
    "import tushare as ts\n",
    "import pandas as pd\n",
    "import time\n",
    "import datetime\n",
    "import os"
   ]
  },
  {
   "cell_type": "code",
   "execution_count": 2,
   "metadata": {},
   "outputs": [],
   "source": [
    "# set parameters\n",
    "# ================================================================== #\n",
    "keyword = '教育'\n",
    "rounds = 25\n",
    "news_fetched_per_round = 100\n",
    "time_between_rounds_per_second = 900\n",
    "# ================================================================== #\n",
    "save_path = \".\\\\output\\\\edu_report_\" + \\\n",
    "            str(datetime.datetime.today().date()) + \".csv\""
   ]
  },
  {
   "cell_type": "code",
   "execution_count": 3,
   "metadata": {},
   "outputs": [],
   "source": [
    "# initiate\n",
    "report = pd.DataFrame()\n",
    "n = 1\n",
    "\n",
    "# clean temp storage space\n",
    "for i in os.listdir(\".\\\\output\\\\temp\"):\n",
    "    file = os.path.join(\".\\\\output\\\\temp\", i)"
   ]
  },
  {
   "cell_type": "code",
   "execution_count": 4,
   "metadata": {},
   "outputs": [],
   "source": [
    "# initiate\n",
    "report = pd.DataFrame()\n",
    "n = 1\n",
    "\n",
    "# clean temp storage space\n",
    "for i in os.listdir(\".\\\\output\\\\temp\"):\n",
    "    file = os.path.join(\".\\\\output\\\\temp\", i)\n",
    "    os.remove(file)"
   ]
  },
  {
   "cell_type": "code",
   "execution_count": null,
   "metadata": {
    "scrolled": true
   },
   "outputs": [
    {
     "name": "stdout",
     "output_type": "stream",
     "text": [
      "Document is empty\n",
      "This is the  1 th round of fetching, please don't terminate python\n",
      "Document is empty\n",
      "This is the  2 th round of fetching, please don't terminate python\n",
      "Document is empty\n",
      "Error reading file 'http://finance.sina.com.cn/stock/usstock/c/2018-05-09/doc-ihaichqy6768911.shtml': failed to load external entity \"http://finance.sina.com.cn/stock/usstock/c/2018-05-09/doc-ihaichqy6768911.shtml\"\n",
      "Document is empty\n",
      "This is the  3 th round of fetching, please don't terminate python\n",
      "Document is empty\n",
      "Document is empty\n",
      "This is the  4 th round of fetching, please don't terminate python\n",
      "Document is empty\n",
      "Document is empty\n",
      "This is the  5 th round of fetching, please don't terminate python\n",
      "Document is empty\n",
      "Document is empty\n",
      "This is the  6 th round of fetching, please don't terminate python\n",
      "Document is empty\n",
      "Document is empty\n",
      "This is the  7 th round of fetching, please don't terminate python\n",
      "Document is empty\n",
      "This is the  8 th round of fetching, please don't terminate python\n",
      "Document is empty\n",
      "This is the  9 th round of fetching, please don't terminate python\n",
      "Document is empty\n",
      "This is the  10 th round of fetching, please don't terminate python\n",
      "Document is empty\n",
      "Document is empty\n",
      "This is the  11 th round of fetching, please don't terminate python\n",
      "Document is empty\n",
      "Document is empty\n",
      "This is the  12 th round of fetching, please don't terminate python\n",
      "Document is empty\n",
      "Document is empty\n",
      "This is the  13 th round of fetching, please don't terminate python\n",
      "Document is empty\n",
      "Document is empty\n",
      "This is the  14 th round of fetching, please don't terminate python\n",
      "Document is empty\n",
      "Document is empty\n",
      "This is the  15 th round of fetching, please don't terminate python\n",
      "Document is empty\n",
      "Document is empty\n",
      "This is the  16 th round of fetching, please don't terminate python\n",
      "Document is empty\n",
      "Document is empty\n",
      "This is the  17 th round of fetching, please don't terminate python\n",
      "Document is empty\n",
      "Document is empty\n",
      "This is the  18 th round of fetching, please don't terminate python\n",
      "Document is empty\n",
      "Document is empty\n",
      "This is the  19 th round of fetching, please don't terminate python\n",
      "Document is empty\n",
      "Document is empty\n",
      "This is the  20 th round of fetching, please don't terminate python\n",
      "Document is empty\n",
      "Document is empty\n",
      "This is the  21 th round of fetching, please don't terminate python\n",
      "Document is empty\n",
      "Document is empty\n",
      "This is the  22 th round of fetching, please don't terminate python\n",
      "Document is empty\n",
      "This is the  23 th round of fetching, please don't terminate python\n",
      "Document is empty\n",
      "Document is empty\n",
      "This is the  24 th round of fetching, please don't terminate python\n",
      "Document is empty\n",
      "Document is empty\n",
      "This is the  25 th round of fetching, please don't terminate python\n"
     ]
    }
   ],
   "source": [
    "# loop fetch news\n",
    "while n <= rounds:\n",
    "    df = ts.get_latest_news(top=news_fetched_per_round, show_content=True)\n",
    "    p1 = df[~pd.isnull(df.content)]\n",
    "    print(\"This is the \", str(n), \"th round of fetching, please don't terminate python\")\n",
    "    temp_path = \".\\\\output\\\\temp\\\\edu_report_\" + str(\n",
    "        datetime.datetime.today().date()) + \"_\" + str(n) + \".csv\"\n",
    "    p1.to_csv(temp_path, encoding='gb18030')\n",
    "    n += 1\n",
    "    time.sleep(time_between_rounds_per_second)"
   ]
  },
  {
   "cell_type": "code",
   "execution_count": null,
   "metadata": {},
   "outputs": [],
   "source": [
    "# report: synthesize from temp to report\n",
    "for i in os.listdir(\".\\\\output\\\\temp\"):\n",
    "    file = os.path.join(\".\\\\output\\\\temp\", i)\n",
    "    report = report.append(pd.read_csv(file, encoding='gb18030'))\n",
    "    os.remove(file)\n",
    "report = report[report.content.str.contains(keyword)].drop_duplicates()\n",
    "final = report.loc[:, ['classify', 'title', 'content']].drop_duplicates()\n",
    "final.to_csv(save_path, encoding='gb18030')\n",
    "print(\"All process finished, can be closed safely.\")"
   ]
  },
  {
   "cell_type": "code",
   "execution_count": null,
   "metadata": {},
   "outputs": [],
   "source": [
    "# close pc \n",
    "os.system('shutdown -s')"
   ]
  }
 ],
 "metadata": {
  "kernelspec": {
   "display_name": "Python 3",
   "language": "python",
   "name": "python3"
  },
  "language_info": {
   "codemirror_mode": {
    "name": "ipython",
    "version": 3
   },
   "file_extension": ".py",
   "mimetype": "text/x-python",
   "name": "python",
   "nbconvert_exporter": "python",
   "pygments_lexer": "ipython3",
   "version": "3.6.5"
  }
 },
 "nbformat": 4,
 "nbformat_minor": 2
}

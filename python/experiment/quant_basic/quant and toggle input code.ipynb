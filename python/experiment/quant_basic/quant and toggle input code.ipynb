{
 "cells": [
  {
   "cell_type": "code",
   "execution_count": 1,
   "metadata": {},
   "outputs": [
    {
     "data": {
      "text/html": [
       "<script>\n",
       "code_show=true; \n",
       "function code_toggle() {\n",
       " if (code_show){\n",
       " $('div.input').hide();\n",
       " } else {\n",
       " $('div.input').show();\n",
       " }\n",
       " code_show = !code_show\n",
       "} \n",
       "$( document ).ready(code_toggle);\n",
       "</script>\n",
       "<form action=\"javascript:code_toggle()\"><input type=\"submit\" value=\"I/O Code\"></form>"
      ],
      "text/plain": [
       "<IPython.core.display.HTML object>"
      ]
     },
     "execution_count": 1,
     "metadata": {},
     "output_type": "execute_result"
    }
   ],
   "source": [
    "from IPython.display import HTML\n",
    "\n",
    "HTML('''<script>\n",
    "code_show=true; \n",
    "function code_toggle() {\n",
    " if (code_show){\n",
    " $('div.input').hide();\n",
    " } else {\n",
    " $('div.input').show();\n",
    " }\n",
    " code_show = !code_show\n",
    "} \n",
    "$( document ).ready(code_toggle);\n",
    "</script>\n",
    "<form action=\"javascript:code_toggle()\"><input type=\"submit\" value=\"I/O Code\"></form>''')"
   ]
  },
  {
   "cell_type": "markdown",
   "metadata": {},
   "source": [
    "# This is a test for both Jupyter Notebook and my first quant algorithm\n",
    "\n",
    "### Kai Guo \n",
    "### 2018/03/15"
   ]
  },
  {
   "cell_type": "code",
   "execution_count": 2,
   "metadata": {},
   "outputs": [],
   "source": [
    "# -*- coding: utf-8 -*-\n",
    "import pandas as pd\n",
    "import tushare as ts\n",
    "import bt\n",
    "import matplotlib.pyplot as plt\n",
    "\n",
    "# set parameters\n",
    "plt.style.use('bmh')\n",
    "start_date = \"2010-01-01\"\n",
    "concept = \"婴童\"\n",
    "code_refer = [\"000001\"]\n",
    "# set parameters end\n",
    "\n",
    "df = ts.get_concept_classified()\n",
    "df = df[df.c_name.str.contains(concept)]\n",
    "code_list = df.code.tolist()\n",
    "\n",
    "\n",
    "# replace bt.get()\n",
    "def get_data(tickers, start):\n",
    "    if len(tickers) == 1:\n",
    "        for i in tickers:\n",
    "            data = ts.get_k_data(i, start=start)\n",
    "            data.date = pd.to_datetime(data.date)\n",
    "            data.set_index(\"date\", inplace=True)\n",
    "            data = pd.DataFrame(data.loc[:, \"close\"])\n",
    "            data.columns = tickers\n",
    "            return data\n",
    "    else:\n",
    "        data = pd.DataFrame()\n",
    "        for i in tickers:\n",
    "            temp = ts.get_k_data(i, start=start)\n",
    "            temp.date = pd.to_datetime(temp.date)\n",
    "            temp.set_index(\"date\", inplace=True)\n",
    "            temp = temp.loc[:, \"close\"]\n",
    "            data = pd.concat([data, temp], axis=1)\n",
    "        data.columns = tickers\n",
    "        data = data.fillna(method='ffill')\n",
    "        return data\n",
    "\n",
    "\n",
    "def above_sma(tickers, sma_per, start='2010-01-01', name='above_sma'):\n",
    "    \"\"\"\n",
    "    Long securities that are above their n period\n",
    "    Simple Moving Averages with equal weights.\n",
    "    \"\"\"\n",
    "    data = get_data(tickers=tickers, start=start)\n",
    "\n",
    "    # calc sma\n",
    "    sma = data.rolling(sma_per).mean()\n",
    "\n",
    "    # create strategy\n",
    "    s = bt.Strategy(name, [bt.algos.SelectWhere(data > sma),\n",
    "                           bt.algos.WeighEqually(),\n",
    "                           bt.algos.Rebalance()])\n",
    "\n",
    "    # now we create the backtest\n",
    "    return bt.Backtest(s, data)\n",
    "\n",
    "\n",
    "# simple backtest to test long-only allocation\n",
    "def long_only_ew(tickers, start='2010-01-01', name='long_only_ew'):\n",
    "    s = bt.Strategy(name, [bt.algos.RunOnce(),\n",
    "                           bt.algos.SelectAll(),\n",
    "                           bt.algos.WeighEqually(),\n",
    "                           bt.algos.Rebalance()])\n",
    "\n",
    "    data = get_data(tickers=tickers, start=start)\n",
    "\n",
    "    return bt.Backtest(s, data)\n",
    "\n"
   ]
  },
  {
   "cell_type": "code",
   "execution_count": null,
   "metadata": {},
   "outputs": [
    {
     "name": "stdout",
     "output_type": "stream",
     "text": [
      "timed out\n"
     ]
    }
   ],
   "source": [
    "# portfolio sma?\n",
    "benchmark = long_only_ew(tickers=code_refer, start=start_date, name='benchmark')\n",
    "sma10 = above_sma(tickers=code_list, sma_per=10, name='sma10', start=start_date)\n",
    "sma20 = above_sma(tickers=code_list, sma_per=20, name='sma20', start=start_date)\n",
    "sma40 = above_sma(tickers=code_list, sma_per=40, name='sma40', start=start_date)\n",
    "sma100 = above_sma(tickers=code_list, sma_per=100, name='sma100', start=start_date)\n",
    "sma200 = above_sma(tickers=code_list, sma_per=200, name='sma200', start=start_date)\n",
    "res = bt.run(sma10, sma20, sma40, sma100, sma200, benchmark)\n",
    "print(\"\\n\")\n",
    "print(res.display())\n"
   ]
  },
  {
   "cell_type": "code",
   "execution_count": null,
   "metadata": {},
   "outputs": [],
   "source": [
    "import numpy as np\n",
    "res.plot()\n",
    "plt.show()\n",
    "\n",
    "# ===================================TBD\n",
    "# ma crossover\n",
    "data1 = get_data(['002083'], \"2010-01-01\")\n",
    "\n",
    "sma50 = data1.rolling(50).mean()\n",
    "sma200 = data1.rolling(200).mean()\n",
    "# now we need to calculate our target weight DataFrame\n",
    "# first we will copy the sma200 DataFrame since our weights will have the same strucutre\n",
    "tw = sma200.copy()\n",
    "# set appropriate target weights\n",
    "tw[sma50 > sma200] = 1.0\n",
    "tw[sma50 <= sma200] = -1.0\n",
    "# here we will set the weight to 0 - this is because the sma200 needs 200 data points before\n",
    "# calculating its first point. Therefore, it will start with a bunch of nulls (NaNs).\n",
    "tw[sma200.isnull()] = np.nan\n",
    "\n",
    "tmp = bt.merge(tw, data1, sma50, sma200)\n",
    "tmp.columns = ['tw', 'price', 'sma50', 'sma200']\n",
    "ax = tmp.plot(figsize=(15, 5), secondary_y=['tw'])\n",
    "plt.show()\n",
    "\n",
    "ma_cross = bt.Strategy('ma_cross', [bt.algos.WeighTarget(tw),\n",
    "                                    bt.algos.Rebalance()])\n",
    "\n",
    "t = bt.Backtest(ma_cross, data1)\n",
    "res1 = bt.run(t)\n",
    "res1.plot()\n",
    "plt.show()\n",
    "\n"
   ]
  },
  {
   "cell_type": "code",
   "execution_count": null,
   "metadata": {
    "scrolled": false
   },
   "outputs": [],
   "source": [
    "res.plot_correlation()\n",
    "plt.show()"
   ]
  },
  {
   "cell_type": "code",
   "execution_count": null,
   "metadata": {},
   "outputs": [],
   "source": [
    "res.plot_histogram()"
   ]
  }
 ],
 "metadata": {
  "kernelspec": {
   "display_name": "Python 3",
   "language": "python",
   "name": "python3"
  },
  "language_info": {
   "codemirror_mode": {
    "name": "ipython",
    "version": 3
   },
   "file_extension": ".py",
   "mimetype": "text/x-python",
   "name": "python",
   "nbconvert_exporter": "python",
   "pygments_lexer": "ipython3",
   "version": "3.6.5"
  }
 },
 "nbformat": 4,
 "nbformat_minor": 2
}

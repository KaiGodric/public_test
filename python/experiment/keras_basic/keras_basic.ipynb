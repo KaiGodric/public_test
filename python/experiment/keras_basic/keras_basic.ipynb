{
 "cells": [
  {
   "cell_type": "markdown",
   "metadata": {},
   "source": [
    "Keras\n",
    "====\n",
    "# Test1 Regression"
   ]
  },
  {
   "cell_type": "code",
   "execution_count": 1,
   "metadata": {},
   "outputs": [],
   "source": [
    "from sklearn.datasets import load_boston\n",
    "import pandas as pd\n",
    "import numpy as np\n",
    "import matplotlib.pyplot as plt"
   ]
  },
  {
   "cell_type": "code",
   "execution_count": 2,
   "metadata": {},
   "outputs": [],
   "source": [
    "data = load_boston()\n",
    "predictors = data.data\n",
    "target = data.target"
   ]
  },
  {
   "cell_type": "markdown",
   "metadata": {},
   "source": [
    "#### Build the model"
   ]
  },
  {
   "cell_type": "code",
   "execution_count": 3,
   "metadata": {},
   "outputs": [
    {
     "name": "stderr",
     "output_type": "stream",
     "text": [
      "Using TensorFlow backend.\n"
     ]
    }
   ],
   "source": [
    "# Import necessary modules\n",
    "import keras\n",
    "from keras.layers import Dense\n",
    "from keras.models import Sequential\n",
    "\n",
    "# Save the number of columns in predictors: n_cols\n",
    "n_cols = predictors.shape[1]\n",
    "\n",
    "# Set up the model: model\n",
    "model = Sequential()\n",
    "\n",
    "# Add the first layer\n",
    "model.add(Dense(50, activation='relu', input_shape=(n_cols,)))\n",
    "\n",
    "# Add the second layer\n",
    "model.add(Dense(32,activation='relu'))\n",
    "\n",
    "# Add the output layer\n",
    "model.add(Dense(1))"
   ]
  },
  {
   "cell_type": "markdown",
   "metadata": {},
   "source": [
    "#### Compile and fit"
   ]
  },
  {
   "cell_type": "code",
   "execution_count": 4,
   "metadata": {},
   "outputs": [
    {
     "name": "stdout",
     "output_type": "stream",
     "text": [
      "Loss function: mean_squared_error\n",
      "Epoch 1/10\n",
      "506/506 [==============================] - 0s 180us/step - loss: 3155.0488\n",
      "Epoch 2/10\n",
      "506/506 [==============================] - 0s 52us/step - loss: 516.6496\n",
      "Epoch 3/10\n",
      "506/506 [==============================] - 0s 51us/step - loss: 155.1471\n",
      "Epoch 4/10\n",
      "506/506 [==============================] - 0s 53us/step - loss: 116.2965\n",
      "Epoch 5/10\n",
      "506/506 [==============================] - 0s 50us/step - loss: 94.4699\n",
      "Epoch 6/10\n",
      "506/506 [==============================] - 0s 52us/step - loss: 84.8778\n",
      "Epoch 7/10\n",
      "506/506 [==============================] - 0s 51us/step - loss: 80.3383\n",
      "Epoch 8/10\n",
      "506/506 [==============================] - 0s 52us/step - loss: 78.0385\n",
      "Epoch 9/10\n",
      "506/506 [==============================] - 0s 52us/step - loss: 76.1309\n",
      "Epoch 10/10\n",
      "506/506 [==============================] - 0s 50us/step - loss: 75.7743\n"
     ]
    },
    {
     "data": {
      "text/plain": [
       "<keras.callbacks.History at 0x10e0457f0>"
      ]
     },
     "execution_count": 4,
     "metadata": {},
     "output_type": "execute_result"
    }
   ],
   "source": [
    "# Compile the model\n",
    "model.compile(optimizer='adam',loss='mean_squared_error')\n",
    "\n",
    "# Verify that model contains information from compiling\n",
    "print(\"Loss function: \" + model.loss)\n",
    "\n",
    "model.fit(predictors,target,epochs=10)"
   ]
  },
  {
   "cell_type": "markdown",
   "metadata": {},
   "source": [
    "# Test2 Classification"
   ]
  },
  {
   "cell_type": "code",
   "execution_count": 5,
   "metadata": {},
   "outputs": [],
   "source": [
    "from sklearn.datasets import load_breast_cancer\n",
    "from sklearn.model_selection import train_test_split"
   ]
  },
  {
   "cell_type": "code",
   "execution_count": 6,
   "metadata": {},
   "outputs": [],
   "source": [
    "data = load_breast_cancer()\n",
    "predictors, X_test, target, y_test = train_test_split(data.data,data.target,test_size=.3)\n",
    "n_cols = predictors.shape[1]"
   ]
  },
  {
   "cell_type": "code",
   "execution_count": 7,
   "metadata": {},
   "outputs": [
    {
     "name": "stdout",
     "output_type": "stream",
     "text": [
      "Epoch 1/10\n",
      "398/398 [==============================] - 0s 271us/step - loss: 5.5482 - acc: 0.6558\n",
      "Epoch 2/10\n",
      "398/398 [==============================] - 0s 61us/step - loss: 5.5482 - acc: 0.6558\n",
      "Epoch 3/10\n",
      "398/398 [==============================] - 0s 57us/step - loss: 5.5482 - acc: 0.6558\n",
      "Epoch 4/10\n",
      "398/398 [==============================] - 0s 53us/step - loss: 5.5482 - acc: 0.6558\n",
      "Epoch 5/10\n",
      "398/398 [==============================] - 0s 54us/step - loss: 5.5482 - acc: 0.6558\n",
      "Epoch 6/10\n",
      "398/398 [==============================] - 0s 52us/step - loss: 5.5482 - acc: 0.6558\n",
      "Epoch 7/10\n",
      "398/398 [==============================] - 0s 50us/step - loss: 5.5482 - acc: 0.6558\n",
      "Epoch 8/10\n",
      "398/398 [==============================] - 0s 53us/step - loss: 5.5482 - acc: 0.6558\n",
      "Epoch 9/10\n",
      "398/398 [==============================] - 0s 56us/step - loss: 5.5482 - acc: 0.6558\n",
      "Epoch 10/10\n",
      "398/398 [==============================] - 0s 54us/step - loss: 5.5482 - acc: 0.6558\n"
     ]
    },
    {
     "data": {
      "text/plain": [
       "<keras.callbacks.History at 0x1108a1470>"
      ]
     },
     "execution_count": 7,
     "metadata": {},
     "output_type": "execute_result"
    }
   ],
   "source": [
    "# Import necessary modules\n",
    "import keras\n",
    "from keras.layers import Dense\n",
    "from keras.models import Sequential\n",
    "from keras.utils import to_categorical\n",
    "\n",
    "# Convert the target to categorical: target\n",
    "target = to_categorical(target)\n",
    "\n",
    "# Set up the model\n",
    "model = Sequential()\n",
    "\n",
    "# Add the first layer\n",
    "model.add(Dense(50,activation='relu',input_shape=(n_cols,)))\n",
    "\n",
    "    # temp-added for test\n",
    "model.add(Dense(50,activation='relu'))\n",
    "model.add(Dense(50,activation='relu'))\n",
    "\n",
    "# Add the output layer\n",
    "model.add(Dense(2,activation='softmax'))\n",
    "\n",
    "# Compile the model\n",
    "model.compile(optimizer='sgd',loss='categorical_crossentropy',metrics=['accuracy'])\n",
    "\n",
    "# Fit the model\n",
    "model.fit(predictors,target,epochs=10)\n"
   ]
  },
  {
   "cell_type": "markdown",
   "metadata": {},
   "source": [
    "#### Save, load and predict with model"
   ]
  },
  {
   "cell_type": "code",
   "execution_count": 8,
   "metadata": {},
   "outputs": [
    {
     "name": "stdout",
     "output_type": "stream",
     "text": [
      "[ 1.  1.  1.  1.  1.  1.  1.  1.  1.  1.  1.  1.  1.  1.  1.  1.  1.  1.\n",
      "  1.  1.  1.  1.  1.  1.  1.  1.  1.  1.  1.  1.  1.  1.  1.  1.  1.  1.\n",
      "  1.  1.  1.  1.  1.  1.  1.  1.  1.  1.  1.  1.  1.  1.  1.  1.  1.  1.\n",
      "  1.  1.  1.  1.  1.  1.  1.  1.  1.  1.  1.  1.  1.  1.  1.  1.  1.  1.\n",
      "  1.  1.  1.  1.  1.  1.  1.  1.  1.  1.  1.  1.  1.  1.  1.  1.  1.  1.\n",
      "  1.  1.  1.  1.  1.  1.  1.  1.  1.  1.  1.  1.  1.  1.  1.  1.  1.  1.\n",
      "  1.  1.  1.  1.  1.  1.  1.  1.  1.  1.  1.  1.  1.  1.  1.  1.  1.  1.\n",
      "  1.  1.  1.  1.  1.  1.  1.  1.  1.  1.  1.  1.  1.  1.  1.  1.  1.  1.\n",
      "  1.  1.  1.  1.  1.  1.  1.  1.  1.  1.  1.  1.  1.  1.  1.  1.  1.  1.\n",
      "  1.  1.  1.  1.  1.  1.  1.  1.  1.]\n"
     ]
    }
   ],
   "source": [
    "# Calculate predictions: predictions\n",
    "predictions = model.predict(X_test)\n",
    "\n",
    "# Calculate predicted probability of survival: predicted_prob_true\n",
    "predicted_prob_true = predictions[:,1]\n",
    "\n",
    "# print predicted_prob_true\n",
    "print(predicted_prob_true)"
   ]
  },
  {
   "cell_type": "markdown",
   "metadata": {},
   "source": [
    "^ something went wrong....."
   ]
  },
  {
   "cell_type": "code",
   "execution_count": 9,
   "metadata": {},
   "outputs": [
    {
     "name": "stdout",
     "output_type": "stream",
     "text": [
      "_________________________________________________________________\n",
      "Layer (type)                 Output Shape              Param #   \n",
      "=================================================================\n",
      "dense_4 (Dense)              (None, 50)                1550      \n",
      "_________________________________________________________________\n",
      "dense_5 (Dense)              (None, 50)                2550      \n",
      "_________________________________________________________________\n",
      "dense_6 (Dense)              (None, 50)                2550      \n",
      "_________________________________________________________________\n",
      "dense_7 (Dense)              (None, 2)                 102       \n",
      "=================================================================\n",
      "Total params: 6,752\n",
      "Trainable params: 6,752\n",
      "Non-trainable params: 0\n",
      "_________________________________________________________________\n"
     ]
    }
   ],
   "source": [
    "model.summary()"
   ]
  },
  {
   "cell_type": "markdown",
   "metadata": {},
   "source": [
    "#### Model Optimization"
   ]
  },
  {
   "cell_type": "code",
   "execution_count": 10,
   "metadata": {},
   "outputs": [],
   "source": [
    "def get_new_model():\n",
    "    model = Sequential()\n",
    "\n",
    "    # Add the first layer\n",
    "    model.add(Dense(50,activation='relu',input_shape=(n_cols,)))\n",
    "\n",
    "    # temp-added for test\n",
    "    model.add(Dense(50,activation='relu'))\n",
    "    model.add(Dense(50,activation='relu'))\n",
    "\n",
    "    # Add the output layer\n",
    "    model.add(Dense(2,activation='softmax'))\n",
    "    return model"
   ]
  },
  {
   "cell_type": "code",
   "execution_count": 11,
   "metadata": {},
   "outputs": [
    {
     "name": "stdout",
     "output_type": "stream",
     "text": [
      "\n",
      "\n",
      "Testing model with learning rate: 0.000001\n",
      "\n",
      "Epoch 1/10\n",
      "398/398 [==============================] - 0s 270us/step - loss: 5.5482\n",
      "Epoch 2/10\n",
      "398/398 [==============================] - 0s 42us/step - loss: 5.5482\n",
      "Epoch 3/10\n",
      "398/398 [==============================] - 0s 40us/step - loss: 5.5482\n",
      "Epoch 4/10\n",
      "398/398 [==============================] - 0s 39us/step - loss: 5.5482\n",
      "Epoch 5/10\n",
      "398/398 [==============================] - 0s 41us/step - loss: 5.5482\n",
      "Epoch 6/10\n",
      "398/398 [==============================] - 0s 45us/step - loss: 5.5482\n",
      "Epoch 7/10\n",
      "398/398 [==============================] - 0s 59us/step - loss: 5.5482\n",
      "Epoch 8/10\n",
      "398/398 [==============================] - 0s 41us/step - loss: 5.5482\n",
      "Epoch 9/10\n",
      "398/398 [==============================] - 0s 44us/step - loss: 5.5482\n",
      "Epoch 10/10\n",
      "398/398 [==============================] - 0s 40us/step - loss: 5.5482\n",
      "\n",
      "\n",
      "Testing model with learning rate: 0.010000\n",
      "\n",
      "Epoch 1/10\n",
      "398/398 [==============================] - 0s 320us/step - loss: 5.5482\n",
      "Epoch 2/10\n",
      "398/398 [==============================] - 0s 46us/step - loss: 5.5482\n",
      "Epoch 3/10\n",
      "398/398 [==============================] - 0s 45us/step - loss: 5.5482\n",
      "Epoch 4/10\n",
      "398/398 [==============================] - 0s 46us/step - loss: 5.5482\n",
      "Epoch 5/10\n",
      "398/398 [==============================] - 0s 44us/step - loss: 5.5482\n",
      "Epoch 6/10\n",
      "398/398 [==============================] - 0s 42us/step - loss: 5.5482\n",
      "Epoch 7/10\n",
      "398/398 [==============================] - 0s 42us/step - loss: 5.5482\n",
      "Epoch 8/10\n",
      "398/398 [==============================] - 0s 40us/step - loss: 5.5482\n",
      "Epoch 9/10\n",
      "398/398 [==============================] - 0s 47us/step - loss: 5.5482\n",
      "Epoch 10/10\n",
      "398/398 [==============================] - 0s 43us/step - loss: 5.5482\n",
      "\n",
      "\n",
      "Testing model with learning rate: 1.000000\n",
      "\n",
      "Epoch 1/10\n",
      "398/398 [==============================] - 0s 352us/step - loss: 10.5699\n",
      "Epoch 2/10\n",
      "398/398 [==============================] - 0s 41us/step - loss: 10.5699\n",
      "Epoch 3/10\n",
      "398/398 [==============================] - 0s 44us/step - loss: 10.5699\n",
      "Epoch 4/10\n",
      "398/398 [==============================] - 0s 43us/step - loss: 10.5699\n",
      "Epoch 5/10\n",
      "398/398 [==============================] - 0s 43us/step - loss: 10.5699\n",
      "Epoch 6/10\n",
      "398/398 [==============================] - 0s 43us/step - loss: 10.5699\n",
      "Epoch 7/10\n",
      "398/398 [==============================] - 0s 44us/step - loss: 10.5699\n",
      "Epoch 8/10\n",
      "398/398 [==============================] - 0s 45us/step - loss: 10.5699\n",
      "Epoch 9/10\n",
      "398/398 [==============================] - 0s 45us/step - loss: 10.5699\n",
      "Epoch 10/10\n",
      "398/398 [==============================] - 0s 53us/step - loss: 10.5699\n"
     ]
    }
   ],
   "source": [
    "# Import the SGD optimizer\n",
    "from keras.optimizers import SGD\n",
    "\n",
    "# Create list of learning rates: lr_to_test\n",
    "lr_to_test = [0.000001,0.01,1]\n",
    "\n",
    "# Loop over learning rates\n",
    "for lr in lr_to_test:\n",
    "    print('\\n\\nTesting model with learning rate: %f\\n'%lr )\n",
    "    \n",
    "    # Build new model to test, unaffected by previous models\n",
    "    model = get_new_model()\n",
    "    \n",
    "    # Create SGD optimizer with specified learning rate: my_optimizer\n",
    "    my_optimizer = SGD(lr=lr)\n",
    "    \n",
    "    # Compile the model\n",
    "    model.compile(optimizer=my_optimizer,loss='categorical_crossentropy')\n",
    "    \n",
    "    # Fit the model\n",
    "    model.fit(predictors,target,epochs=10)\n",
    "    "
   ]
  },
  {
   "cell_type": "code",
   "execution_count": 12,
   "metadata": {},
   "outputs": [
    {
     "name": "stdout",
     "output_type": "stream",
     "text": [
      "Train on 278 samples, validate on 120 samples\n",
      "Epoch 1/30\n",
      "278/278 [==============================] - 0s 758us/step - loss: 10.6354 - acc: 0.3273 - val_loss: 1.0011 - val_acc: 0.7750\n",
      "Epoch 2/30\n",
      "278/278 [==============================] - 0s 78us/step - loss: 2.6270 - acc: 0.6835 - val_loss: 1.4869 - val_acc: 0.8500\n",
      "Epoch 3/30\n",
      "278/278 [==============================] - 0s 77us/step - loss: 1.4364 - acc: 0.7986 - val_loss: 3.3067 - val_acc: 0.7417\n"
     ]
    },
    {
     "data": {
      "text/plain": [
       "<keras.callbacks.History at 0x110f19e10>"
      ]
     },
     "execution_count": 12,
     "metadata": {},
     "output_type": "execute_result"
    }
   ],
   "source": [
    "# Import EarlyStopping\n",
    "from keras.callbacks import EarlyStopping\n",
    "\n",
    "# Save the number of columns in predictors: n_cols\n",
    "n_cols = predictors.shape[1]\n",
    "input_shape = (n_cols,)\n",
    "\n",
    "# Specify the model\n",
    "model = Sequential()\n",
    "model.add(Dense(100, activation='relu', input_shape = input_shape))\n",
    "model.add(Dense(100, activation='relu'))\n",
    "model.add(Dense(2, activation='softmax'))\n",
    "\n",
    "# Compile the model\n",
    "model.compile(optimizer='adam',loss='categorical_crossentropy',metrics=['accuracy'])\n",
    "\n",
    "# Define early_stopping_monitor\n",
    "early_stopping_monitor = EarlyStopping(patience=2)\n",
    "\n",
    "# Fit the model\n",
    "model.fit(predictors,target,epochs=30,validation_split=.3,callbacks=[early_stopping_monitor])\n"
   ]
  },
  {
   "cell_type": "markdown",
   "metadata": {},
   "source": [
    "#### Comparison of two models"
   ]
  },
  {
   "cell_type": "code",
   "execution_count": 13,
   "metadata": {},
   "outputs": [
    {
     "data": {
      "image/png": "[encoded data removed]",
      "text/plain": [
       "<matplotlib.figure.Figure at 0x111f38fd0>"
      ]
     },
     "metadata": {},
     "output_type": "display_data"
    }
   ],
   "source": [
    "# Define early_stopping_monitor\n",
    "early_stopping_monitor = EarlyStopping(patience=2)\n",
    "\n",
    "model_1 = Sequential()\n",
    "model_1.add(Dense(10, activation='relu', input_shape=input_shape))\n",
    "model_1.add(Dense(10, activation='relu'))\n",
    "model_1.add(Dense(2, activation='softmax'))\n",
    "model_1.compile(optimizer='adam',loss='categorical_crossentropy',metrics=['accuracy'])\n",
    "\n",
    "\n",
    "# Create the new model: model_2\n",
    "model_2 = Sequential()\n",
    "\n",
    "# Add the first and second layers\n",
    "model_2.add(Dense(100, activation='relu', input_shape=input_shape))\n",
    "model_2.add(Dense(100, activation='relu'))\n",
    "\n",
    "# Add the output layer\n",
    "model_2.add(Dense(2, activation='softmax'))\n",
    "\n",
    "# Compile model_2\n",
    "model_2.compile(optimizer='adam',loss='categorical_crossentropy',metrics=['accuracy'])\n",
    "\n",
    "# Fit model_1\n",
    "model_1_training = model_1.fit(predictors, target, epochs=15, validation_split=0.2, callbacks=[early_stopping_monitor], verbose=False)\n",
    "\n",
    "# Fit model_2\n",
    "model_2_training = model_2.fit(predictors, target, epochs=15, validation_split=0.2, callbacks=[early_stopping_monitor], verbose=False)\n",
    "\n",
    "# Create the plot\n",
    "plt.plot(model_1_training.history['val_loss'], 'r', model_2_training.history['val_loss'], 'b')\n",
    "plt.xlabel('Epochs')\n",
    "plt.ylabel('Validation score')\n",
    "plt.show()\n"
   ]
  },
  {
   "cell_type": "code",
   "execution_count": 14,
   "metadata": {},
   "outputs": [
    {
     "data": {
      "image/png": "[encoded data removed]",
      "text/plain": [
       "<matplotlib.figure.Figure at 0x1a252c5588>"
      ]
     },
     "metadata": {},
     "output_type": "display_data"
    }
   ],
   "source": [
    "# The input shape to use in the first hidden layer\n",
    "input_shape = (n_cols,)\n",
    "\n",
    "model_3 = Sequential()\n",
    "model_3.add(Dense(50,activation='relu',input_shape=input_shape))\n",
    "model_3.add(Dense(2,activation='softmax'))\n",
    "model_3.compile(optimizer='adam',loss='categorical_crossentropy',metrics=['accuracy'])\n",
    "\n",
    "# Create the new model: model_2\n",
    "model_4 = Sequential()\n",
    "\n",
    "# Add the first, second, and third hidden layers\n",
    "model_4.add(Dense(50,activation='relu',input_shape=input_shape))\n",
    "model_4.add(Dense(50,activation='relu'))\n",
    "model_4.add(Dense(50,activation='relu'))\n",
    "\n",
    "# Add the output layer\n",
    "model_4.add(Dense(2,activation='softmax'))\n",
    "\n",
    "# Compile model_2\n",
    "model_4.compile(optimizer='adam',loss='categorical_crossentropy',metrics=['accuracy'])\n",
    "\n",
    "# Fit model 1\n",
    "model_4_training = model_4.fit(predictors, target, epochs=20, validation_split=0.4, callbacks=[early_stopping_monitor], verbose=False)\n",
    "\n",
    "# Fit model 2\n",
    "model_3_training = model_3.fit(predictors, target, epochs=20, validation_split=0.4, callbacks=[early_stopping_monitor], verbose=False)\n",
    "\n",
    "# Create the plot\n",
    "plt.plot(model_3_training.history['val_loss'], 'r', model_4_training.history['val_loss'], 'b')\n",
    "plt.xlabel('Epochs')\n",
    "plt.ylabel('Validation score')\n",
    "plt.show()\n"
   ]
  }
 ],
 "metadata": {
  "kernelspec": {
   "display_name": "Python 3",
   "language": "python",
   "name": "python3"
  },
  "language_info": {
   "codemirror_mode": {
    "name": "ipython",
    "version": 3
   },
   "file_extension": ".py",
   "mimetype": "text/x-python",
   "name": "python",
   "nbconvert_exporter": "python",
   "pygments_lexer": "ipython3",
   "version": "3.6.5"
  }
 },
 "nbformat": 4,
 "nbformat_minor": 2
}

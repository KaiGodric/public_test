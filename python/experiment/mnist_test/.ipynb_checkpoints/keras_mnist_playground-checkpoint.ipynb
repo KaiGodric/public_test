{
 "cells": [
  {
   "cell_type": "markdown",
   "metadata": {},
   "source": [
    "#  keras mnist playground"
   ]
  },
  {
   "cell_type": "markdown",
   "metadata": {},
   "source": [
    "## Example"
   ]
  },
  {
   "cell_type": "code",
   "execution_count": 1,
   "metadata": {},
   "outputs": [
    {
     "name": "stderr",
     "output_type": "stream",
     "text": [
      "Using TensorFlow backend.\n"
     ]
    }
   ],
   "source": [
    "# coding:utf-8\n",
    "\n",
    "from keras.datasets import mnist\n",
    "from keras.models import Sequential\n",
    "from keras.layers import Conv2D,MaxPool2D,Dense,Flatten, Activation\n",
    "from keras.callbacks import TensorBoard\n",
    "from keras.models import save_model,load_model\n",
    "import keras,numpy\n",
    "from keras.utils import plot_model"
   ]
  },
  {
   "cell_type": "code",
   "execution_count": 2,
   "metadata": {},
   "outputs": [],
   "source": [
    "batch_size = 32\n",
    "num_classes = 10\n",
    "epoch = 20\n",
    "img_rows, img_cols = 28, 28\n",
    "input_shape = (img_rows,img_cols,1)"
   ]
  },
  {
   "cell_type": "code",
   "execution_count": 3,
   "metadata": {},
   "outputs": [],
   "source": [
    "(x_train,y_train),(x_test,y_test) = mnist.load_data()\n",
    "if keras.backend.image_data_format()=='channels_first':\n",
    "    x_train = numpy.reshape(x_train,[x_train.shape[0],1,img_rows,img_cols])\n",
    "    x_test = numpy.reshape(x_test, [x_test.shape[0], 1,img_rows, img_cols])\n",
    "    input_shape = (1,img_rows,img_cols)\n",
    "else:\n",
    "    x_train = numpy.reshape(x_train,[x_train.shape[0],img_rows,img_cols,1])\n",
    "    x_test = numpy.reshape(x_test, [x_test.shape[0],img_rows, img_cols,1])\n",
    "    input_shape = (img_rows,img_cols,1)"
   ]
  },
  {
   "cell_type": "code",
   "execution_count": 4,
   "metadata": {},
   "outputs": [],
   "source": [
    "# 数据预处理,归一化,one-hot化\n",
    "x_train = x_train.astype('float32')\n",
    "x_test = x_test.astype('float32')\n",
    "x_train = x_train/255\n",
    "x_test = x_test/255\n",
    "\n",
    "y_train = keras.utils.np_utils.to_categorical(y_train, num_classes)\n",
    "y_test = keras.utils.np_utils.to_categorical(y_test, num_classes)"
   ]
  },
  {
   "cell_type": "code",
   "execution_count": 5,
   "metadata": {},
   "outputs": [],
   "source": [
    "# 构造lenet模型,简化版\n",
    "mnist_model = Sequential()\n",
    "mnist_model.add(Conv2D(6, (5, 5), activation='relu', input_shape=input_shape))\n",
    "# mnist_model.add(Conv2D(6,1,5,5))\n",
    "mnist_model.add(Activation('relu'))\n",
    "mnist_model.add(MaxPool2D(pool_size=(2, 2)))\n",
    "\n",
    "mnist_model.add(Conv2D(16, (5, 5), activation='relu'))\n",
    "mnist_model.add(MaxPool2D(pool_size=(2, 2)))\n",
    "\n",
    "mnist_model.add(Flatten())\n",
    "mnist_model.add(Dense(120, activation='relu'))\n",
    "mnist_model.add(Dense(84, activation='relu'))\n",
    "\n",
    "mnist_model.add(Dense(num_classes, activation='softmax'))"
   ]
  },
  {
   "cell_type": "code",
   "execution_count": 24,
   "metadata": {},
   "outputs": [],
   "source": [
    "# 保存模型(拓扑图)\n",
    "plot_model(mnist_model, to_file='lenet.png',show_shapes=True)\n",
    "\n",
    "# 编译\n",
    "mnist_model.compile(optimizer='Adadelta',loss='categorical_crossentropy',\n",
    "                   metrics=['accuracy'])"
   ]
  },
  {
   "cell_type": "code",
   "execution_count": 7,
   "metadata": {},
   "outputs": [
    {
     "name": "stdout",
     "output_type": "stream",
     "text": [
      "Epoch 1/20\n",
      "60000/60000 [==============================] - 19s 323us/step - loss: 0.1534 - acc: 0.9518\n",
      "Epoch 2/20\n",
      "60000/60000 [==============================] - 20s 332us/step - loss: 0.0539 - acc: 0.9835\n",
      "Epoch 3/20\n",
      "60000/60000 [==============================] - 20s 335us/step - loss: 0.0400 - acc: 0.9879\n",
      "Epoch 4/20\n",
      "60000/60000 [==============================] - 20s 333us/step - loss: 0.0317 - acc: 0.9903\n",
      "Epoch 5/20\n",
      "60000/60000 [==============================] - 20s 336us/step - loss: 0.0266 - acc: 0.9915\n",
      "Epoch 6/20\n",
      "60000/60000 [==============================] - 20s 335us/step - loss: 0.0220 - acc: 0.9933\n",
      "Epoch 7/20\n",
      "60000/60000 [==============================] - 21s 342us/step - loss: 0.0191 - acc: 0.9943\n",
      "Epoch 8/20\n",
      "60000/60000 [==============================] - 21s 343us/step - loss: 0.0166 - acc: 0.9952\n",
      "Epoch 9/20\n",
      "60000/60000 [==============================] - 20s 338us/step - loss: 0.0136 - acc: 0.9956\n",
      "Epoch 10/20\n",
      "60000/60000 [==============================] - 21s 345us/step - loss: 0.0119 - acc: 0.9962\n",
      "Epoch 11/20\n",
      "60000/60000 [==============================] - 21s 343us/step - loss: 0.0105 - acc: 0.9972\n",
      "Epoch 12/20\n",
      "60000/60000 [==============================] - 21s 349us/step - loss: 0.0091 - acc: 0.9972\n",
      "Epoch 13/20\n",
      "60000/60000 [==============================] - 20s 340us/step - loss: 0.0080 - acc: 0.9977\n",
      "Epoch 14/20\n",
      "60000/60000 [==============================] - 20s 341us/step - loss: 0.0069 - acc: 0.9980\n",
      "Epoch 15/20\n",
      "60000/60000 [==============================] - 21s 343us/step - loss: 0.0057 - acc: 0.9982\n",
      "Epoch 16/20\n",
      "60000/60000 [==============================] - 21s 342us/step - loss: 0.0054 - acc: 0.9986\n",
      "Epoch 17/20\n",
      "60000/60000 [==============================] - 20s 342us/step - loss: 0.0047 - acc: 0.9987\n",
      "Epoch 18/20\n",
      "60000/60000 [==============================] - 21s 344us/step - loss: 0.0039 - acc: 0.9990\n",
      "Epoch 19/20\n",
      "60000/60000 [==============================] - 21s 343us/step - loss: 0.0036 - acc: 0.9990\n",
      "Epoch 20/20\n",
      "60000/60000 [==============================] - 21s 343us/step - loss: 0.0028 - acc: 0.9992\n"
     ]
    }
   ],
   "source": [
    "# 训练\n",
    "history = mnist_model.fit(x_train,y_train,batch_size = batch_size,epochs=epoch,verbose=1,\n",
    "               callbacks=[TensorBoard(log_dir='./log')])"
   ]
  },
  {
   "cell_type": "code",
   "execution_count": 8,
   "metadata": {},
   "outputs": [],
   "source": [
    "# 保存模型\n",
    "save_model(mnist_model,'lenet.h5')"
   ]
  },
  {
   "cell_type": "code",
   "execution_count": 9,
   "metadata": {},
   "outputs": [
    {
     "name": "stdout",
     "output_type": "stream",
     "text": [
      "10000/10000 [==============================] - 1s 104us/step\n",
      "\n",
      "\n",
      "test loss: 0.0510137941124\n",
      "test accuracy: 0.9908\n"
     ]
    }
   ],
   "source": [
    "# 测试\n",
    "score = mnist_model.evaluate(x_test,y_test,verbose=1)\n",
    "print('\\n')\n",
    "print('test loss:',score[0])\n",
    "print('test accuracy:',score[1])"
   ]
  },
  {
   "cell_type": "code",
   "execution_count": 21,
   "metadata": {},
   "outputs": [
    {
     "data": {
      "image/png": "[encoded data removed]",
      "text/plain": [
       "<matplotlib.figure.Figure at 0x1a3b5b5780>"
      ]
     },
     "metadata": {},
     "output_type": "display_data"
    },
    {
     "data": {
      "image/png": "[encoded data removed]",
      "text/plain": [
       "<matplotlib.figure.Figure at 0x1a3b6a8be0>"
      ]
     },
     "metadata": {},
     "output_type": "display_data"
    }
   ],
   "source": [
    "import matplotlib.pyplot as plt\n",
    "# summarize history for accuracy\n",
    "plt.plot(history.history['acc'])\n",
    "plt.title('model accuracy')\n",
    "plt.ylabel('accuracy')\n",
    "plt.xlabel('epoch')\n",
    "plt.show()\n",
    "# summarize history for loss\n",
    "plt.plot(history.history['loss'])\n",
    "plt.title('model loss')\n",
    "plt.ylabel('loss')\n",
    "plt.xlabel('epoch')\n",
    "plt.show()"
   ]
  }
 ],
 "metadata": {
  "kernelspec": {
   "display_name": "Python 3",
   "language": "python",
   "name": "python3"
  },
  "language_info": {
   "codemirror_mode": {
    "name": "ipython",
    "version": 3
   },
   "file_extension": ".py",
   "mimetype": "text/x-python",
   "name": "python",
   "nbconvert_exporter": "python",
   "pygments_lexer": "ipython3",
   "version": "3.6.5"
  }
 },
 "nbformat": 4,
 "nbformat_minor": 2
}
